{
  "cells": [
    {
      "cell_type": "code",
      "execution_count": 1,
      "metadata": {
        "id": "Q42ZWzD_F0Bj"
      },
      "outputs": [],
      "source": [
        "import pandas as pd\n",
        "from sklearn.model_selection import train_test_split\n",
        "from tensorflow.keras.preprocessing.text import Tokenizer\n",
        "from tensorflow.keras.preprocessing.sequence import pad_sequences\n",
        "from sklearn.preprocessing import LabelEncoder\n",
        "from tensorflow.keras.models import Sequential\n",
        "from tensorflow.keras.layers import Embedding, GRU, Dense\n"
      ]
    },
    {
      "cell_type": "code",
      "execution_count": 11,
      "metadata": {
        "id": "AlWISb8eF6YB"
      },
      "outputs": [],
      "source": [
        "# from google.colab import drive\n",
        "# drive.mount('/content/drive')\n",
        "\n",
        "data_dir = '../dataset/wiki/'"
      ]
    },
    {
      "cell_type": "code",
      "execution_count": 25,
      "metadata": {
        "id": "HEM74pFoHlTC"
      },
      "outputs": [
        {
          "name": "stderr",
          "output_type": "stream",
          "text": [
            "/var/folders/h4/qv9ymlxn5v54y1vnffsnvmlr0000gn/T/ipykernel_35544/3007117991.py:1: DtypeWarning: Columns (0,2) have mixed types. Specify dtype option on import or set low_memory=False.\n",
            "  df = pd.read_csv(data_dir + 'shuffled_GPT_wiki_intro.csv', header=None)\n"
          ]
        }
      ],
      "source": [
        "df = pd.read_csv(data_dir + 'shuffled_GPT_wiki_intro.csv', header=None)"
      ]
    },
    {
      "cell_type": "code",
      "execution_count": 27,
      "metadata": {
        "id": "u1byVR2VHrnk"
      },
      "outputs": [
        {
          "name": "stdout",
          "output_type": "stream",
          "text": [
            "           0                                                  1       2\n",
            "0         id                                               text  labels\n",
            "1          0  Hope (born 2010) is a bottlenose dolphin who i...       1\n",
            "2          1  The Invasion of Umuahia (December 20-December ...       0\n",
            "3          2  Morgan Adokwei Brown is a lawyer and human rig...       1\n",
            "4          3  Martine Warmann (formerly Martine George; born...       1\n",
            "...      ...                                                ...     ...\n",
            "49995  49994  Chessgames.com is an Internet chess community ...       0\n",
            "49996  49995  Ahmed Sudi, also known as Sudi-yi (or Sudi-al-...       1\n",
            "49997  49996  The Budapest offensive was the general attack ...       1\n",
            "49998  49997  Rochelle Ballard (born February 13, 1971) is a...       1\n",
            "49999  49998  West Ogwell is a village and former parish in ...       1\n",
            "\n",
            "[50000 rows x 3 columns]\n"
          ]
        }
      ],
      "source": [
        "\n",
        "df = df[:50000]\n",
        "print(df)"
      ]
    },
    {
      "cell_type": "code",
      "execution_count": 29,
      "metadata": {
        "id": "W5gnZhUSHv-a"
      },
      "outputs": [
        {
          "name": "stdout",
          "output_type": "stream",
          "text": [
            "1000/1000 [==============================] - 77s 76ms/step - loss: 0.2810 - accuracy: 0.8790 - val_loss: 0.1956 - val_accuracy: 0.9233\n",
            "313/313 [==============================] - 6s 20ms/step - loss: 0.1884 - accuracy: 0.9267\n",
            "Test Accuracy: 92.67%\n"
          ]
        }
      ],
      "source": [
        "train_data, test_data = train_test_split(df, test_size=0.2, random_state=42)\n",
        "\n",
        "# 文本预处理\n",
        "max_words = 10000  # 仅使用最常见的10000个词\n",
        "tokenizer = Tokenizer(num_words=max_words)\n",
        "tokenizer.fit_on_texts(train_data.iloc[:, 1])  # 第二列是文本\n",
        "\n",
        "X_train = tokenizer.texts_to_sequences(train_data.iloc[:, 1])\n",
        "X_test = tokenizer.texts_to_sequences(test_data.iloc[:, 1])\n",
        "\n",
        "max_sequence_length = max(len(seq) for seq in X_train)\n",
        "X_train = pad_sequences(X_train, maxlen=max_sequence_length)\n",
        "X_test = pad_sequences(X_test, maxlen=max_sequence_length)\n",
        "\n",
        "# 标签预处理\n",
        "label_encoder = LabelEncoder()\n",
        "y_train = label_encoder.fit_transform(train_data.iloc[:, 2])  # 第三列是标签\n",
        "y_test = label_encoder.transform(test_data.iloc[:, 2])\n",
        "\n",
        "# 建立GRU模型\n",
        "embedding_dim = 100\n",
        "hidden_units = 64\n",
        "\n",
        "model = Sequential()\n",
        "model.add(Embedding(input_dim=max_words, output_dim=embedding_dim, input_length=max_sequence_length))\n",
        "model.add(GRU(units=hidden_units))\n",
        "model.add(Dense(1, activation='sigmoid'))\n",
        "\n",
        "# 编译模型\n",
        "model.compile(optimizer='adam', loss='binary_crossentropy', metrics=['accuracy'])\n",
        "\n",
        "# 训练模型\n",
        "model.fit(X_train, y_train, epochs=1, batch_size=32, validation_split=0.2)\n",
        "\n",
        "# 评估模型\n",
        "loss, accuracy = model.evaluate(X_test, y_test)\n",
        "print(f'Test Accuracy: {accuracy * 100:.2f}%')"
      ]
    }
  ],
  "metadata": {
    "colab": {
      "private_outputs": true,
      "provenance": []
    },
    "kernelspec": {
      "display_name": "Python 3",
      "name": "python3"
    },
    "language_info": {
      "codemirror_mode": {
        "name": "ipython",
        "version": 3
      },
      "file_extension": ".py",
      "mimetype": "text/x-python",
      "name": "python",
      "nbconvert_exporter": "python",
      "pygments_lexer": "ipython3",
      "version": "3.10.11"
    }
  },
  "nbformat": 4,
  "nbformat_minor": 0
}
