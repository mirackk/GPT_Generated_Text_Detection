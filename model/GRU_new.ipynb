{
  "cells": [
    {
      "cell_type": "code",
      "execution_count": 7,
      "metadata": {
        "id": "Q42ZWzD_F0Bj"
      },
      "outputs": [],
      "source": [
        "import pandas as pd\n",
        "import time\n",
        "from sklearn.metrics import accuracy_score, f1_score, roc_auc_score\n",
        "from sklearn.model_selection import train_test_split\n",
        "from tensorflow.keras.preprocessing.text import Tokenizer\n",
        "from tensorflow.keras.preprocessing.sequence import pad_sequences\n",
        "from sklearn.preprocessing import LabelEncoder\n",
        "from tensorflow.keras.models import Sequential\n",
        "from tensorflow.keras.layers import Embedding, GRU, Dense,Dropout\n"
      ]
    },
    {
      "cell_type": "code",
      "execution_count": null,
      "metadata": {
        "id": "AlWISb8eF6YB"
      },
      "outputs": [],
      "source": [
        "from google.colab import drive\n",
        "drive.mount('/content/drive')\n",
        "\n",
        "data_dir = 'drive/MyDrive/505/final/'"
      ]
    },
    {
      "cell_type": "code",
      "execution_count": 2,
      "metadata": {
        "id": "HEM74pFoHlTC"
      },
      "outputs": [
        {
          "name": "stderr",
          "output_type": "stream",
          "text": [
            "/var/folders/h4/qv9ymlxn5v54y1vnffsnvmlr0000gn/T/ipykernel_801/2966890944.py:1: DtypeWarning: Columns (0,2) have mixed types. Specify dtype option on import or set low_memory=False.\n",
            "  df = pd.read_csv('../dataset/wiki/shuffled_GPT_wiki_intro.csv', header=None)\n"
          ]
        }
      ],
      "source": [
        "df = pd.read_csv('../dataset/wiki/shuffled_GPT_wiki_intro.csv', header=None)"
      ]
    },
    {
      "cell_type": "code",
      "execution_count": 3,
      "metadata": {
        "id": "u1byVR2VHrnk"
      },
      "outputs": [],
      "source": [
        "df = df[:200000]"
      ]
    },
    {
      "cell_type": "code",
      "execution_count": 10,
      "metadata": {
        "id": "W5gnZhUSHv-a"
      },
      "outputs": [],
      "source": [
        "train_data, test_data = train_test_split(df, test_size=0.2, random_state=42)\n",
        "\n",
        "# 文本预处理\n",
        "max_words = 10000  # 仅使用最常见的10000个词\n",
        "tokenizer = Tokenizer(num_words=max_words)\n",
        "tokenizer.fit_on_texts(train_data.iloc[:, 1])  # 第三列是文本\n",
        "\n",
        "X_train = tokenizer.texts_to_sequences(train_data.iloc[:, 1])\n",
        "X_test = tokenizer.texts_to_sequences(test_data.iloc[:, 1])\n",
        "\n",
        "max_sequence_length = 100 \n",
        "X_train = pad_sequences(X_train, maxlen=max_sequence_length)\n",
        "X_test = pad_sequences(X_test, maxlen=max_sequence_length)\n",
        "\n",
        "# 标签预处理\n",
        "label_encoder = LabelEncoder()\n",
        "y_train = label_encoder.fit_transform(train_data.iloc[:, 2])  # 第二列是标签\n",
        "y_test = label_encoder.transform(test_data.iloc[:, 2])\n",
        "\n",
        "# 建立GRU模型\n",
        "embedding_dim = 100\n",
        "hidden_units = 64\n",
        "\n",
        "model = Sequential()\n",
        "model.add(Embedding(input_dim=max_words, output_dim=embedding_dim, input_length=max_sequence_length))\n",
        "model.add(GRU(units=hidden_units))\n",
        "model.add(Dropout(0.5)) \n",
        "model.add(Dense(1, activation='sigmoid'))\n",
        "\n",
        "# 编译模型\n",
        "model.compile(optimizer='adam', loss='binary_crossentropy', metrics=['accuracy'])"
      ]
    },
    {
      "cell_type": "code",
      "execution_count": 11,
      "metadata": {
        "id": "0KHEpzxy9nua"
      },
      "outputs": [
        {
          "name": "stdout",
          "output_type": "stream",
          "text": [
            "Epoch 1/5\n",
            "4000/4000 [==============================] - 83s 21ms/step - loss: 0.2189 - accuracy: 0.9107 - val_loss: 0.1574 - val_accuracy: 0.9380\n",
            "Epoch 2/5\n",
            "4000/4000 [==============================] - 82s 20ms/step - loss: 0.1254 - accuracy: 0.9536 - val_loss: 0.1555 - val_accuracy: 0.9392\n",
            "Epoch 3/5\n",
            "4000/4000 [==============================] - 82s 20ms/step - loss: 0.0829 - accuracy: 0.9698 - val_loss: 0.1758 - val_accuracy: 0.9393\n",
            "Epoch 4/5\n",
            "4000/4000 [==============================] - 83s 21ms/step - loss: 0.0519 - accuracy: 0.9820 - val_loss: 0.2169 - val_accuracy: 0.9360\n",
            "Epoch 5/5\n",
            "4000/4000 [==============================] - 82s 21ms/step - loss: 0.0316 - accuracy: 0.9887 - val_loss: 0.2579 - val_accuracy: 0.9344\n",
            "1250/1250 [==============================] - 6s 5ms/step\n"
          ]
        }
      ],
      "source": [
        "from keras.callbacks import EarlyStopping\n",
        "training_start_time = time.time()\n",
        "\n",
        "# 训练模型\n",
        "early_stopping = EarlyStopping(monitor='val_loss', patience=3)\n",
        "model.fit(X_train, y_train, epochs=5, batch_size=32, validation_split=0.2,callbacks=[early_stopping])\n",
        "\n",
        "# 记录训练结束时间\n",
        "training_end_time = time.time()\n",
        "\n",
        "# 记录推理开始时间\n",
        "inference_start_time = time.time()\n",
        "y_pred = model.predict(X_test)\n",
        "y_pred_binary = (y_pred > 0.5).astype(int)\n",
        "\n",
        "# 记录推理结束时间\n",
        "inference_end_time = time.time()\n"
      ]
    },
    {
      "cell_type": "code",
      "execution_count": 12,
      "metadata": {},
      "outputs": [],
      "source": [
        "model.save('gru.h5')  # creates a HDF5 file 'my_model.h5'"
      ]
    },
    {
      "cell_type": "code",
      "execution_count": 15,
      "metadata": {
        "id": "Q4nrwa6z9zKo"
      },
      "outputs": [
        {
          "name": "stdout",
          "output_type": "stream",
          "text": [
            "Test Accuracy: 93.92%\n",
            "Test F1 Score: 0.9395\n",
            "Test AUC: 0.9840\n",
            "Training Time: 412.35 seconds\n",
            "Inference Time: 6.65 seconds\n"
          ]
        }
      ],
      "source": [
        "accuracy = accuracy_score(y_test, y_pred_binary)\n",
        "f1 = f1_score(y_test, y_pred_binary)\n",
        "auc = roc_auc_score(y_test, y_pred)\n",
        "\n",
        "# 打印指标\n",
        "print(f'Test Accuracy: {accuracy * 100:.2f}%')\n",
        "print(f'Test F1 Score: {f1:.4f}')\n",
        "print(f'Test AUC: {auc:.4f}')\n",
        "print(f'Training Time: {training_end_time - training_start_time:.2f} seconds')\n",
        "print(f'Inference Time: {inference_end_time - inference_start_time:.2f} seconds')\n",
        "\n",
        "# 将指标保存到CSV文件\n",
        "results_df = pd.DataFrame({\n",
        "    'Metric': ['Accuracy', 'F1 Score', 'AUC', 'Training Time', 'Inference Time'],\n",
        "    'Value': [accuracy, f1, auc, training_end_time - training_start_time, inference_end_time - inference_start_time]\n",
        "})\n",
        "\n",
        "results_df.to_csv('../dataset/gru_model_results.csv', index=False)"
      ]
    }
  ],
  "metadata": {
    "colab": {
      "private_outputs": true,
      "provenance": []
    },
    "kernelspec": {
      "display_name": "Python 3",
      "name": "python3"
    },
    "language_info": {
      "codemirror_mode": {
        "name": "ipython",
        "version": 3
      },
      "file_extension": ".py",
      "mimetype": "text/x-python",
      "name": "python",
      "nbconvert_exporter": "python",
      "pygments_lexer": "ipython3",
      "version": "3.10.11"
    }
  },
  "nbformat": 4,
  "nbformat_minor": 0
}
