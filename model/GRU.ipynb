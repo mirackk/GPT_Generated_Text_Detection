{
  "nbformat": 4,
  "nbformat_minor": 0,
  "metadata": {
    "colab": {
      "private_outputs": true,
      "provenance": []
    },
    "kernelspec": {
      "name": "python3",
      "display_name": "Python 3"
    },
    "language_info": {
      "name": "python"
    }
  },
  "cells": [
    {
      "cell_type": "code",
      "execution_count": null,
      "metadata": {
        "id": "Q42ZWzD_F0Bj"
      },
      "outputs": [],
      "source": [
        "import pandas as pd\n",
        "from sklearn.model_selection import train_test_split\n",
        "from tensorflow.keras.preprocessing.text import Tokenizer\n",
        "from tensorflow.keras.preprocessing.sequence import pad_sequences\n",
        "from sklearn.preprocessing import LabelEncoder\n",
        "from tensorflow.keras.models import Sequential\n",
        "from tensorflow.keras.layers import Embedding, GRU, Dense\n"
      ]
    },
    {
      "cell_type": "code",
      "source": [
        "from google.colab import drive\n",
        "drive.mount('/content/drive')\n",
        "\n",
        "data_dir = 'drive/MyDrive/505/final/'"
      ],
      "metadata": {
        "id": "AlWISb8eF6YB"
      },
      "execution_count": null,
      "outputs": []
    },
    {
      "cell_type": "code",
      "source": [
        "df = pd.read_csv(data_dir + 'sample.csv', header=None)"
      ],
      "metadata": {
        "id": "HEM74pFoHlTC"
      },
      "execution_count": null,
      "outputs": []
    },
    {
      "cell_type": "code",
      "source": [
        "print(df)"
      ],
      "metadata": {
        "id": "u1byVR2VHrnk"
      },
      "execution_count": null,
      "outputs": []
    },
    {
      "cell_type": "code",
      "source": [
        "train_data, test_data = train_test_split(df, test_size=0.2, random_state=42)\n",
        "\n",
        "# 文本预处理\n",
        "max_words = 10000  # 仅使用最常见的10000个词\n",
        "tokenizer = Tokenizer(num_words=max_words)\n",
        "tokenizer.fit_on_texts(train_data.iloc[:, 2])  # 第三列是文本\n",
        "\n",
        "X_train = tokenizer.texts_to_sequences(train_data.iloc[:, 2])\n",
        "X_test = tokenizer.texts_to_sequences(test_data.iloc[:, 2])\n",
        "\n",
        "max_sequence_length = max(len(seq) for seq in X_train)\n",
        "X_train = pad_sequences(X_train, maxlen=max_sequence_length)\n",
        "X_test = pad_sequences(X_test, maxlen=max_sequence_length)\n",
        "\n",
        "# 标签预处理\n",
        "label_encoder = LabelEncoder()\n",
        "y_train = label_encoder.fit_transform(train_data.iloc[:, 1])  # 第二列是标签\n",
        "y_test = label_encoder.transform(test_data.iloc[:, 1])\n",
        "\n",
        "# 建立GRU模型\n",
        "embedding_dim = 100\n",
        "hidden_units = 128\n",
        "\n",
        "model = Sequential()\n",
        "model.add(Embedding(input_dim=max_words, output_dim=embedding_dim, input_length=max_sequence_length))\n",
        "model.add(GRU(units=hidden_units))\n",
        "model.add(Dense(1, activation='sigmoid'))\n",
        "\n",
        "# 编译模型\n",
        "model.compile(optimizer='adam', loss='binary_crossentropy', metrics=['accuracy'])\n",
        "\n",
        "# 训练模型\n",
        "model.fit(X_train, y_train, epochs=10, batch_size=32, validation_split=0.2)\n",
        "\n",
        "# 评估模型\n",
        "loss, accuracy = model.evaluate(X_test, y_test)\n",
        "print(f'Test Accuracy: {accuracy * 100:.2f}%')"
      ],
      "metadata": {
        "id": "W5gnZhUSHv-a"
      },
      "execution_count": null,
      "outputs": []
    }
  ]
}