{
 "nbformat": 4,
 "nbformat_minor": 0,
 "metadata": {
  "colab": {
   "private_outputs": true,
   "provenance": []
  },
  "kernelspec": {
   "name": "pytorch_jupiter",
   "language": "python",
   "display_name": "pytorch_jupiter"
  },
  "language_info": {
   "name": "python"
  }
 },
 "cells": [
  {
   "cell_type": "code",
   "source": [
    "import pandas as pd\n",
    "from sklearn.model_selection import train_test_split\n",
    "from tensorflow.keras.preprocessing.text import Tokenizer\n",
    "from tensorflow.keras.preprocessing.sequence import pad_sequences\n",
    "from sklearn.preprocessing import LabelEncoder\n",
    "from tensorflow.keras.models import Sequential\n",
    "from tensorflow.keras.layers import Embedding, LSTM, Dense,Dropout"
   ],
   "metadata": {
    "id": "4WLKcvcLzN-A",
    "ExecuteTime": {
     "end_time": "2023-12-18T01:05:13.130063400Z",
     "start_time": "2023-12-18T01:05:13.110651700Z"
    }
   },
   "execution_count": 6,
   "outputs": []
  },
  {
   "cell_type": "code",
   "execution_count": 7,
   "outputs": [
    {
     "name": "stderr",
     "output_type": "stream",
     "text": [
      "C:\\Users\\17569\\AppData\\Local\\Temp\\ipykernel_22312\\185645508.py:1: DtypeWarning: Columns (0,2) have mixed types. Specify dtype option on import or set low_memory=False.\n",
      "  df = pd.read_csv('../dataset/llm-detect-ai-generated-text/shuffled_GPT_wiki_intro.csv', header=None)\n"
     ]
    }
   ],
   "source": [
    "df = pd.read_csv('../dataset/llm-detect-ai-generated-text/shuffled_GPT_wiki_intro.csv', header=None)"
   ],
   "metadata": {
    "collapsed": false,
    "ExecuteTime": {
     "end_time": "2023-12-18T01:05:18.829524900Z",
     "start_time": "2023-12-18T01:05:15.211587300Z"
    }
   }
  },
  {
   "cell_type": "code",
   "execution_count": 8,
   "outputs": [
    {
     "name": "stdout",
     "output_type": "stream",
     "text": [
      "   0                                                  1  2\n",
      "1  0  Hope (born 2010) is a bottlenose dolphin who i...  1\n",
      "2  1  The Invasion of Umuahia (December 20-December ...  0\n",
      "3  2  Morgan Adokwei Brown is a lawyer and human rig...  1\n",
      "4  3  Martine Warmann (formerly Martine George; born...  1\n",
      "5  4  The Last Face is a 2016 American drama film wr...  1\n",
      "6  5  Placental mammals (infraclass Placentalia ) ar...  0\n",
      "7  6  The People's Secretariat of Ukraine was the hi...  1\n",
      "8  7  Slavic paganism or Slavic religion describes t...  1\n",
      "9  8  Lieutenant Colonel John Thomas Eustace (March ...  1\n"
     ]
    }
   ],
   "source": [
    "print(df.iloc[1:10,:])\n"
   ],
   "metadata": {
    "collapsed": false,
    "ExecuteTime": {
     "end_time": "2023-12-18T01:05:18.873135300Z",
     "start_time": "2023-12-18T01:05:18.834142800Z"
    }
   }
  },
  {
   "cell_type": "code",
   "execution_count": 9,
   "outputs": [],
   "source": [
    "df= df[0:200000]"
   ],
   "metadata": {
    "collapsed": false,
    "ExecuteTime": {
     "end_time": "2023-12-18T01:05:21.930911800Z",
     "start_time": "2023-12-18T01:05:21.910691600Z"
    }
   }
  },
  {
   "cell_type": "code",
   "execution_count": null,
   "outputs": [],
   "source": [
    "\n",
    "\n",
    "label_counts = df.iloc[:,2].value_counts()\n",
    "\n",
    "\n",
    "print(\"num of 0:\", label_counts.get(0, 0))\n",
    "print(\"num of 1:\", label_counts.get(1, 0))"
   ],
   "metadata": {
    "collapsed": false
   }
  },
  {
   "cell_type": "code",
   "source": [
    "train_data, test_data = train_test_split(df, test_size=0.2, random_state=42)\n",
    "\n",
    "\n",
    "max_words = 10000 \n",
    "tokenizer = Tokenizer(num_words=max_words)\n",
    "tokenizer.fit_on_texts(train_data.iloc[:, 1]) \n",
    "\n",
    "X_train = tokenizer.texts_to_sequences(train_data.iloc[:, 1])\n",
    "X_test = tokenizer.texts_to_sequences(test_data.iloc[:, 1])"
   ],
   "metadata": {
    "id": "rRglBTpCzSzu",
    "ExecuteTime": {
     "end_time": "2023-12-18T04:07:10.459299200Z",
     "start_time": "2023-12-18T04:06:27.314336Z"
    }
   },
   "execution_count": 46,
   "outputs": []
  },
  {
   "cell_type": "code",
   "source": [
    "max_sequence_length = 100\n",
    "X_train = pad_sequences(X_train, maxlen=max_sequence_length)\n",
    "X_test = pad_sequences(X_test, maxlen=max_sequence_length)\n",
    "\n",
    "\n",
    "label_encoder = LabelEncoder()\n",
    "y_train = label_encoder.fit_transform(train_data.iloc[:, 2]) \n",
    "y_test = label_encoder.transform(test_data.iloc[:, 2])"
   ],
   "metadata": {
    "id": "lwo7d0NmzZqW",
    "ExecuteTime": {
     "end_time": "2023-12-18T04:07:11.628877Z",
     "start_time": "2023-12-18T04:07:10.489635Z"
    }
   },
   "execution_count": 47,
   "outputs": []
  },
  {
   "cell_type": "code",
   "execution_count": 48,
   "outputs": [
    {
     "name": "stdout",
     "output_type": "stream",
     "text": [
      "Epoch 1/10\n",
      "4000/4000 [==============================] - 148s 37ms/step - loss: 0.3482 - accuracy: 0.8469 - val_loss: 0.2152 - val_accuracy: 0.9250\n",
      "Epoch 2/10\n",
      "4000/4000 [==============================] - 151s 38ms/step - loss: 0.1905 - accuracy: 0.9341 - val_loss: 0.1862 - val_accuracy: 0.9311\n",
      "Epoch 3/10\n",
      "4000/4000 [==============================] - 154s 39ms/step - loss: 0.1621 - accuracy: 0.9431 - val_loss: 0.1806 - val_accuracy: 0.9305\n",
      "Epoch 4/10\n",
      "4000/4000 [==============================] - 151s 38ms/step - loss: 0.1448 - accuracy: 0.9485 - val_loss: 0.1760 - val_accuracy: 0.9326\n",
      "Epoch 5/10\n",
      "4000/4000 [==============================] - 163s 41ms/step - loss: 0.1329 - accuracy: 0.9527 - val_loss: 0.1725 - val_accuracy: 0.9316\n",
      "Epoch 6/10\n",
      "4000/4000 [==============================] - 158s 40ms/step - loss: 0.1243 - accuracy: 0.9551 - val_loss: 0.1798 - val_accuracy: 0.9322\n",
      "Epoch 7/10\n",
      "4000/4000 [==============================] - 150s 38ms/step - loss: 0.1189 - accuracy: 0.9572 - val_loss: 0.1729 - val_accuracy: 0.9330\n",
      "Epoch 8/10\n",
      "4000/4000 [==============================] - 158s 39ms/step - loss: 0.1138 - accuracy: 0.9590 - val_loss: 0.1921 - val_accuracy: 0.9315\n",
      "1250/1250 [==============================] - 16s 12ms/step - loss: 0.1682 - accuracy: 0.9373\n",
      "Test Accuracy: 93.73%\n",
      "Training Time: 1233.40 seconds\n"
     ]
    },
    {
     "data": {
      "text/plain": "<Figure size 1200x600 with 2 Axes>",
      "image/png": "[encoded data removed]"
     },
     "metadata": {},
     "output_type": "display_data"
    }
   ],
   "source": [
    "from keras.callbacks import EarlyStopping\n",
    "from keras.optimizers import Adam\n",
    "import time\n",
    "import matplotlib.pyplot as plt\n",
    "\n",
    "\n",
    "\n",
    "\n",
    "embedding_dim = 50\n",
    "hidden_units = 32\n",
    "\n",
    "model = Sequential()\n",
    "model.add(Embedding(input_dim=max_words, output_dim=embedding_dim, input_length=max_sequence_length))\n",
    "model.add(LSTM(units=hidden_units))\n",
    "model.add(Dropout(0.5))\n",
    "model.add(Dense(1, activation='sigmoid'))\n",
    "custom_optimizer = Adam(learning_rate=0.00006)\n",
    "\n",
    "model.compile(optimizer=custom_optimizer, loss='binary_crossentropy', metrics=['accuracy'])\n",
    "\n",
    "early_stopping = EarlyStopping(monitor='val_loss', patience=3, restore_best_weights=True)\n",
    "\n",
    "start_time = time.time()\n",
    "\n",
    "\n",
    "history = model.fit(X_train, y_train, epochs=10, batch_size=32, validation_split=0.2, callbacks=[early_stopping])\n",
    "\n",
    "\n",
    "end_time = time.time()\n",
    "\n",
    "\n",
    "loss, accuracy = model.evaluate(X_test, y_test)\n",
    "print(f'Test Accuracy: {accuracy * 100:.2f}%')\n",
    "\n",
    "\n",
    "training_time = end_time - start_time\n",
    "print(f'Training Time: {training_time:.2f} seconds')\n",
    "\n",
    "\n",
    "plt.figure(figsize=(12, 6))\n",
    "\n",
    "\n",
    "plt.subplot(1, 2, 1)\n",
    "plt.plot(history.history['accuracy'])\n",
    "plt.plot(history.history['val_accuracy'])\n",
    "plt.title('Model Accuracy')\n",
    "plt.xlabel('Epoch')\n",
    "plt.ylabel('Accuracy')\n",
    "plt.legend(['Train', 'Validation'], loc='upper left')\n",
    "\n",
    "\n",
    "plt.subplot(1, 2, 2)\n",
    "plt.plot(history.history['loss'])\n",
    "plt.plot(history.history['val_loss'])\n",
    "plt.title('Model Loss')\n",
    "plt.xlabel('Epoch')\n",
    "plt.ylabel('Loss')\n",
    "plt.legend(['Train', 'Validation'], loc='upper left')\n",
    "\n",
    "plt.tight_layout()\n",
    "plt.show()\n"
   ],
   "metadata": {
    "collapsed": false,
    "ExecuteTime": {
     "end_time": "2023-12-18T04:28:15.689926700Z",
     "start_time": "2023-12-18T04:07:25.872292400Z"
    }
   }
  },
  {
   "cell_type": "code",
   "execution_count": 49,
   "outputs": [],
   "source": [
    "model.save('lstm_model.h5')"
   ],
   "metadata": {
    "collapsed": false,
    "ExecuteTime": {
     "end_time": "2023-12-18T04:29:24.409498400Z",
     "start_time": "2023-12-18T04:29:24.375498400Z"
    }
   }
  },
  {
   "cell_type": "code",
   "execution_count": 16,
   "outputs": [
    {
     "name": "stdout",
     "output_type": "stream",
     "text": [
      "(100000, 3)\n"
     ]
    },
    {
     "name": "stderr",
     "output_type": "stream",
     "text": [
      "C:\\Users\\17569\\AppData\\Local\\Temp\\ipykernel_10308\\1910811553.py:1: DtypeWarning: Columns (0,2) have mixed types. Specify dtype option on import or set low_memory=False.\n",
      "  test_df = pd.read_csv('../dataset/llm-detect-ai-generated-text/shuffled_GPT_wiki_intro.csv', header=None)[200001:]\n"
     ]
    }
   ],
   "source": [
    "test_df = pd.read_csv('../dataset/llm-detect-ai-generated-text/shuffled_GPT_wiki_intro.csv', header=None)[200001:]\n",
    "print(test_df.shape)"
   ],
   "metadata": {
    "collapsed": false,
    "ExecuteTime": {
     "end_time": "2023-12-16T00:54:12.159040900Z",
     "start_time": "2023-12-16T00:54:08.698824Z"
    }
   }
  },
  {
   "cell_type": "code",
   "execution_count": 26,
   "outputs": [
    {
     "name": "stdout",
     "output_type": "stream",
     "text": [
      "1    Arcturus is a village in the province of Masho...\n",
      "2                                                    0\n",
      "Name: 200002, dtype: object\n"
     ]
    }
   ],
   "source": [
    "print(test_df.iloc[1,1:])"
   ],
   "metadata": {
    "collapsed": false,
    "ExecuteTime": {
     "end_time": "2023-12-15T02:08:36.738404Z",
     "start_time": "2023-12-15T02:08:36.707035300Z"
    }
   }
  },
  {
   "cell_type": "code",
   "execution_count": 28,
   "outputs": [
    {
     "name": "stdout",
     "output_type": "stream",
     "text": [
      "Sampled DataFrame Shape: (400, 2)\n"
     ]
    }
   ],
   "source": [
    "sampled_df = test_df.sample(n=400).iloc[:,1:]\n",
    "\n",
    "sampled_df.to_csv('final_test_set.csv', index=False)\n",
    "\n",
    "print(\"Sampled DataFrame Shape:\", sampled_df.shape)"
   ],
   "metadata": {
    "collapsed": false,
    "ExecuteTime": {
     "end_time": "2023-12-15T02:09:13.432244200Z",
     "start_time": "2023-12-15T02:09:13.369724400Z"
    }
   }
  },
  {
   "cell_type": "code",
   "execution_count": 63,
   "outputs": [
    {
     "name": "stdout",
     "output_type": "stream",
     "text": [
      "13/13 [==============================] - 0s 14ms/step - loss: 0.1552 - accuracy: 0.9450\n",
      "2/2 [==============================] - 0s 10ms/step - loss: 0.4066 - accuracy: 0.8261\n"
     ]
    }
   ],
   "source": [
    "from keras.models import load_model\n",
    "\n",
    "loaded_model = load_model('lstm_model.h5')\n",
    "\n",
    "final_test_data = pd.read_csv('../dataset/testing_set/final_test_set.csv')\n",
    "final_customize_test_data = pd.read_csv('../customize_test/combined_text_data.csv')\n",
    "\n",
    "X_test  = pad_sequences(tokenizer.texts_to_sequences(final_test_data.iloc[:,0])  , maxlen=max_sequence_length)\n",
    "\n",
    "\n",
    "y_test = label_encoder.transform(final_test_data.iloc[:,1].astype(str))\n",
    "\n",
    "X_test_customize  = pad_sequences(tokenizer.texts_to_sequences(final_customize_test_data.iloc[:,0])  , maxlen=max_sequence_length)\n",
    "\n",
    "y_test_customize = label_encoder.transform(final_customize_test_data.iloc[:,1].astype(str))\n",
    "\n",
    "\n",
    "loss, accuracy = model.evaluate(X_test, y_test)\n",
    "loss1, accuracy1 = model.evaluate(X_test_customize, y_test_customize)"
   ],
   "metadata": {
    "collapsed": false,
    "ExecuteTime": {
     "end_time": "2023-12-18T04:45:58.943006500Z",
     "start_time": "2023-12-18T04:45:58.029916400Z"
    }
   }
  },
  {
   "cell_type": "code",
   "execution_count": 66,
   "outputs": [
    {
     "name": "stdout",
     "output_type": "stream",
     "text": [
      "2/2 [==============================] - 0s 10ms/step\n",
      "Confusion Matrix:\n",
      "[[20  1]\n",
      " [ 7 18]]\n",
      "\n",
      "Classification Report:\n",
      "              precision    recall  f1-score   support\n",
      "\n",
      "           0       0.74      0.95      0.83        21\n",
      "           1       0.95      0.72      0.82        25\n",
      "\n",
      "    accuracy                           0.83        46\n",
      "   macro avg       0.84      0.84      0.83        46\n",
      "weighted avg       0.85      0.83      0.83        46\n",
      "\n",
      "8\n",
      "real: 1, predict: [0], prob: [0.0048727]\n",
      "content: As we stroll through nature, feeling the gentle breeze on our faces and the soft earth beneath our feet. Trees shimmer with green hues in the sunlight, and small flowers dance in the grass. Birds sing cheerful tunes perched on branches, and fluffy clouds drift across the sky. All of this brings joy to the heart, as if embracing the arms of nature. Let's cherish the beauty around us and embrace the warmth of life.\r\n",
      "Take a moment to appreciate the simple wonders – the rustle of leaves, the warmth of sunlight, and the melody of birdsong. Nature's harmony is a reminder to be present and grateful for the small joys that surround us. Each step on the soft ground is a connection to the Earth, and every breath of fresh air invigorates the soul. In this tranquil setting, we find solace and inspiration, reminding us of the beauty that exists in the simplicity of life. Let's hold onto these moments and let nature's serenity guide us through the journey of each day.\r\n",
      "As we immerse ourselves further into nature's embrace, we encounter the symphony of life unfolding around us. The gentle babble of a nearby stream adds a soothing undertone, and the scent of blooming flowers fills the air with a sweet fragrance. Creatures, both big and small, contribute to the intricate tapestry of the ecosystem.\r\n",
      "\n",
      "\n",
      "real: 1, predict: [0], prob: [0.3538176]\n",
      "content: Let's carry this appreciation for simplicity and the beauty of the natural world into our daily lives, allowing it to inspire a sense of gratitude and mindfulness. As we navigate the complexities of our existence, may we always find solace and joy in the uncomplicated brilliance that nature graciously shares with us.\r\n",
      "Venturing deeper into nature's realm, one discovers the ever-changing canvas of seasons. Spring brings forth a burst of colors as flowers bloom, and life awakens from winter's slumber. Summer bathes the landscape in warmth, inviting us to bask in the long, sunlit days. Autumn, with its vibrant tapestry of reds and golds, signals a time of reflection and change. Winter blankets the world in a serene hush, transforming it into a glistening wonderland.\r\n",
      "\n",
      "\n",
      "real: 1, predict: [0], prob: [0.18971649]\n",
      "content: So, let's cultivate a deepening connection with the natural world, recognizing it not just as a backdrop to our lives but as an integral part of our existence. Nature, with its timeless wisdom, beckons us to slow down, observe, and find joy in the simple yet profound beauty that surrounds us.\r\n",
      "In the tapestry of nature, there exists a delicate balance, a dance between the elements that sustains life. The air we breathe, the water that nourishes, and the soil that supports growth — these fundamental components create a web of interconnectedness. It's a reminder of our responsibility to be stewards of the environment, to cherish and protect the very source of our existence.\r\n",
      "\n",
      "\n",
      "real: 1, predict: [0], prob: [0.48994118]\n",
      "content: Consider the magic of a star-studded night sky, a celestial spectacle that transcends time and space. The cosmos above reflects the vastness of human potential and the limitless possibilities that lie before us. In these moments of reflection, we find inspiration to reach beyond our perceived boundaries, much like the ever-expanding universe.\r\n",
      "\r\n",
      "Nature, in its simplicity and complexity, offers a canvas for creativity and contemplation. Whether it's the rustling leaves in a secluded forest or the vastness of a desert landscape, these diverse settings stir the imagination and invite introspection. It's a call to disconnect from the digital noise, allowing ourselves to be fully present in the natural symphony that unfolds around us.\r\n",
      "\n",
      "\n",
      "real: 1, predict: [0], prob: [0.00346713]\n",
      "content: As we navigate the intricate pathways of life, let's carry with us the lessons nature imparts — resilience in the face of storms, the cyclical nature of growth and renewal, and the profound interconnectedness of all living things. In doing so, we not only honor the beauty of the natural world but also nurture a deeper understanding of our place within it.\r\n",
      "In the simplicity of a nature walk or a moment of quiet contemplation, we find a refuge from the hustle and bustle of modern life. It's a chance to recharge, to let go of stress, and to appreciate the present moment. Whether it's the crunch of leaves beneath our feet or the sensation of cool grass on a warm day, these experiences ground us in the tangible and immediate.\r\n",
      "\n",
      "\n",
      "real: 0, predict: [1], prob: [0.7432303]\n",
      "content: Odayil Ninnu  is a 1965 Indian Malayalam-language drama film directed by K. S. Sethumadhavan and written by P. Kesavadev based on his own novel of the same name. The film deals with the life and struggles of a proud and hardworking rickshaw puller, Pappu. It stars Sathyan, Prem Nazir, K. R. Vijaya and Kaviyoor Ponnamma. Master Dasarath plays the young Pappu. Suresh Gopi made his acting debut with the film, who was then six years old. He appeared as the feudal lord's timid son, who also becomes the root cause for Pappu running away from home. The film was a commercial success and also received critical acclaim for its raw energy and Sathyan's performance in the lead role. It received a certificate of merit at the National Film Awards. It was remade in Tamil as Babu (1971), in Telugu as Marapurani Manishi (1973) and in Hindi as Babu (1985).\n",
      "\n",
      "real: 1, predict: [0], prob: [0.30132318]\n",
      "content: Words dance at my fingertips, akin to a melodious symphony. Each letter is a note, each sentence a melody, weaving together into a symphony reserved for this afternoon. I attempt to capture those fleeting moments, embedding them in the chiaroscuro of language, allowing every reader to discover their own resonance within.\r\n",
      "\r\n",
      "Maybe, this is a sort of retrospection, a collection of memories. In this transient flow of time, words serve as a reservoir where I settle my thoughts, and memories are the distant ripples. Like the willow branch outside, I endeavor to connect those soft memories into abstract canvases, using words to sketch the contours of passing years.\r\n",
      "\n",
      "\n",
      "real: 1, predict: [0], prob: [0.32346672]\n",
      "content: at my fingertips, akin to a melodious symphony. Each letter is a note, each sentence a melody, weaving together into a symphony reserved for this afternoon. I attempt to capture those fleeting moments, embedding them in the chiaroscuro of language, allowing every reader to discover their own resonance within.  Maybe, this is a sort of retrospection, a collection of memories. In this transient flow of time, words serve as a reservoir where I settle my thoughts, and memories are the distant ripples. Like the willow branch outside, I endeavor to connect those soft memories into abstract canvases, using words to sketch the contours of passing years.\r\n"
     ]
    }
   ],
   "source": [
    "from sklearn.metrics import confusion_matrix, classification_report\n",
    "\n",
    "\n",
    "y_pred = loaded_model.predict(X_test_customize)\n",
    "\n",
    "\n",
    "y_pred_classes = (y_pred > 0.5).astype(int)\n",
    "\n",
    "\n",
    "conf_matrix = confusion_matrix(y_test_customize, y_pred_classes)\n",
    "\n",
    "\n",
    "print(\"Confusion Matrix:\")\n",
    "print(conf_matrix)\n",
    "\n",
    "print(\"\\nClassification Report:\")\n",
    "print(classification_report(y_test_customize, y_pred_classes))\n",
    "\n",
    "\n",
    "incorrect_samples = [i for i in range(len(y_test_customize)) if y_test_customize[i] != y_pred_classes[i]]\n",
    "print(len(incorrect_samples))\n",
    "\n",
    "for i in range( len(incorrect_samples)):\n",
    "    index = incorrect_samples[i]\n",
    "    print(f\"real: {y_test_customize[index]}, predict: {y_pred_classes[index]}, prob: {y_pred[index]}\")\n",
    "    print(f\"content: {final_customize_test_data.iloc[index, 0]}\\n\")\n"
   ],
   "metadata": {
    "collapsed": false,
    "ExecuteTime": {
     "end_time": "2023-12-18T05:10:07.565420500Z",
     "start_time": "2023-12-18T05:10:07.431225100Z"
    }
   }
  },
  {
   "cell_type": "code",
   "execution_count": 58,
   "outputs": [
    {
     "name": "stdout",
     "output_type": "stream",
     "text": [
      "13/13 [==============================] - 0s 16ms/step\n",
      "Confusion Matrix:\n",
      "[[184   9]\n",
      " [ 15 192]]\n",
      "\n",
      "Classification Report:\n",
      "              precision    recall  f1-score   support\n",
      "\n",
      "           0       0.92      0.95      0.94       193\n",
      "           1       0.96      0.93      0.94       207\n",
      "\n",
      "    accuracy                           0.94       400\n",
      "   macro avg       0.94      0.94      0.94       400\n",
      "weighted avg       0.94      0.94      0.94       400\n"
     ]
    }
   ],
   "source": [
    "y_pred1 = loaded_model.predict(X_test)\n",
    "\n",
    "\n",
    "y_pred_classes1 = (y_pred1 > 0.5).astype(int)\n",
    "\n",
    "\n",
    "conf_matrix1 = confusion_matrix(y_test, y_pred_classes1)\n",
    "\n",
    "\n",
    "print(\"Confusion Matrix:\")\n",
    "print(conf_matrix1)\n",
    "\n",
    "print(\"\\nClassification Report:\")\n",
    "print(classification_report(y_test, y_pred_classes1))"
   ],
   "metadata": {
    "collapsed": false,
    "ExecuteTime": {
     "end_time": "2023-12-16T04:07:50.292151700Z",
     "start_time": "2023-12-16T04:07:49.996064300Z"
    }
   }
  }
 ]
}
