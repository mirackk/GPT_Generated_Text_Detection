{
 "nbformat": 4,
 "nbformat_minor": 0,
 "metadata": {
  "colab": {
   "private_outputs": true,
   "provenance": []
  },
  "kernelspec": {
   "name": "pytorch_jupiter",
   "language": "python",
   "display_name": "pytorch_jupiter"
  },
  "language_info": {
   "name": "python"
  }
 },
 "cells": [
  {
   "cell_type": "code",
   "execution_count": null,
   "metadata": {
    "id": "mI21FLyly5VE",
    "is_executing": true
   },
   "outputs": [],
   "source": [
    "from google.colab import drive\n",
    "drive.mount('/content/drive')\n",
    "\n",
    "data_dir = 'drive/MyDrive/505/final/'"
   ]
  },
  {
   "cell_type": "code",
   "execution_count": null,
   "outputs": [],
   "source": [
    "data_dir = 'drive/MyDrive/505/final/'"
   ],
   "metadata": {
    "collapsed": false
   }
  },
  {
   "cell_type": "code",
   "source": [
    "df = pd.read_csv(data_dir + 'sample.csv', header=None)"
   ],
   "metadata": {
    "id": "F1Sd7tFhzLMq",
    "is_executing": true
   },
   "execution_count": null,
   "outputs": []
  },
  {
   "cell_type": "code",
   "source": [
    "import pandas as pd\n",
    "from sklearn.model_selection import train_test_split\n",
    "from tensorflow.keras.preprocessing.text import Tokenizer\n",
    "from tensorflow.keras.preprocessing.sequence import pad_sequences\n",
    "from sklearn.preprocessing import LabelEncoder\n",
    "from tensorflow.keras.models import Sequential\n",
    "from tensorflow.keras.layers import Embedding, LSTM, Dense"
   ],
   "metadata": {
    "id": "4WLKcvcLzN-A",
    "ExecuteTime": {
     "end_time": "2023-12-15T01:02:14.821480800Z",
     "start_time": "2023-12-15T01:02:14.805859600Z"
    }
   },
   "execution_count": 5,
   "outputs": []
  },
  {
   "cell_type": "code",
   "execution_count": 25,
   "outputs": [
    {
     "name": "stdout",
     "output_type": "stream",
     "text": [
      "Num GPUs Available:  0\n"
     ]
    }
   ],
   "source": [],
   "metadata": {
    "collapsed": false,
    "ExecuteTime": {
     "end_time": "2023-12-13T22:42:07.692468700Z",
     "start_time": "2023-12-13T22:42:07.639518500Z"
    }
   }
  },
  {
   "cell_type": "code",
   "execution_count": 13,
   "outputs": [
    {
     "name": "stderr",
     "output_type": "stream",
     "text": [
      "C:\\Users\\17569\\AppData\\Local\\Temp\\ipykernel_12652\\185645508.py:1: DtypeWarning: Columns (0,2) have mixed types. Specify dtype option on import or set low_memory=False.\n",
      "  df = pd.read_csv('../dataset/llm-detect-ai-generated-text/shuffled_GPT_wiki_intro.csv', header=None)\n"
     ]
    }
   ],
   "source": [
    "df = pd.read_csv('../dataset/llm-detect-ai-generated-text/shuffled_GPT_wiki_intro.csv', header=None)"
   ],
   "metadata": {
    "collapsed": false,
    "ExecuteTime": {
     "end_time": "2023-12-15T01:13:23.063399100Z",
     "start_time": "2023-12-15T01:13:19.464464700Z"
    }
   }
  },
  {
   "cell_type": "code",
   "execution_count": 7,
   "outputs": [
    {
     "name": "stdout",
     "output_type": "stream",
     "text": [
      "   0                                                  1  2\n",
      "1  0  Hope (born 2010) is a bottlenose dolphin who i...  1\n",
      "2  1  The Invasion of Umuahia (December 20-December ...  0\n",
      "3  2  Morgan Adokwei Brown is a lawyer and human rig...  1\n",
      "4  3  Martine Warmann (formerly Martine George; born...  1\n",
      "5  4  The Last Face is a 2016 American drama film wr...  1\n",
      "6  5  Placental mammals (infraclass Placentalia ) ar...  0\n",
      "7  6  The People's Secretariat of Ukraine was the hi...  1\n",
      "8  7  Slavic paganism or Slavic religion describes t...  1\n",
      "9  8  Lieutenant Colonel John Thomas Eustace (March ...  1\n"
     ]
    }
   ],
   "source": [
    "print(df.iloc[1:10,:])\n"
   ],
   "metadata": {
    "collapsed": false,
    "ExecuteTime": {
     "end_time": "2023-12-15T01:02:24.080757200Z",
     "start_time": "2023-12-15T01:02:24.065141900Z"
    }
   }
  },
  {
   "cell_type": "code",
   "execution_count": 14,
   "outputs": [],
   "source": [
    "df= df[0:200000]"
   ],
   "metadata": {
    "collapsed": false,
    "ExecuteTime": {
     "end_time": "2023-12-15T01:13:38.286836700Z",
     "start_time": "2023-12-15T01:13:38.271213300Z"
    }
   }
  },
  {
   "cell_type": "code",
   "source": [
    "train_data, test_data = train_test_split(df, test_size=0.2, random_state=42)\n",
    "\n",
    "# 文本预处理\n",
    "max_words = 15000  # 仅使用最常见的10000个词\n",
    "tokenizer = Tokenizer(num_words=max_words)\n",
    "tokenizer.fit_on_texts(train_data.iloc[:, 1])  # 第三列是文本\n",
    "\n",
    "X_train = tokenizer.texts_to_sequences(train_data.iloc[:, 1])\n",
    "X_test = tokenizer.texts_to_sequences(test_data.iloc[:, 1])"
   ],
   "metadata": {
    "id": "rRglBTpCzSzu",
    "ExecuteTime": {
     "end_time": "2023-12-15T01:14:22.240594400Z",
     "start_time": "2023-12-15T01:13:40.214958600Z"
    }
   },
   "execution_count": 15,
   "outputs": []
  },
  {
   "cell_type": "code",
   "source": [
    "max_sequence_length = max(len(seq) for seq in X_train)\n",
    "X_train = pad_sequences(X_train, maxlen=max_sequence_length)\n",
    "X_test = pad_sequences(X_test, maxlen=max_sequence_length)\n",
    "\n",
    "# 标签预处理\n",
    "label_encoder = LabelEncoder()\n",
    "y_train = label_encoder.fit_transform(train_data.iloc[:, 2])  # 第二列是标签\n",
    "y_test = label_encoder.transform(test_data.iloc[:, 2])"
   ],
   "metadata": {
    "id": "lwo7d0NmzZqW",
    "ExecuteTime": {
     "end_time": "2023-12-15T01:14:23.879781300Z",
     "start_time": "2023-12-15T01:14:22.240594400Z"
    }
   },
   "execution_count": 16,
   "outputs": []
  },
  {
   "cell_type": "code",
   "execution_count": 17,
   "outputs": [
    {
     "name": "stdout",
     "output_type": "stream",
     "text": [
      "WARNING:tensorflow:`period` argument is deprecated. Please use `save_freq` to specify the frequency in number of batches seen.\n",
      "Epoch 1/3\n",
      "4000/4000 [==============================] - 827s 206ms/step - loss: 0.1970 - accuracy: 0.9224 - val_loss: 0.1316 - val_accuracy: 0.9527\n",
      "Epoch 2/3\n",
      "4000/4000 [==============================] - 843s 211ms/step - loss: 0.0976 - accuracy: 0.9654 - val_loss: 0.1347 - val_accuracy: 0.9525\n",
      "Epoch 3/3\n",
      "4000/4000 [==============================] - 821s 205ms/step - loss: 0.0571 - accuracy: 0.9806 - val_loss: 0.1224 - val_accuracy: 0.9616\n",
      "1250/1250 [==============================] - 90s 72ms/step - loss: 0.1184 - accuracy: 0.9622\n",
      "Test Accuracy: 96.22%\n",
      "Training Time: 2491.20 seconds\n"
     ]
    },
    {
     "data": {
      "text/plain": "<Figure size 1200x600 with 2 Axes>",
      "image/png": "[encoded data removed]"
     },
     "metadata": {},
     "output_type": "display_data"
    }
   ],
   "source": [
    "from tensorflow.python.keras.callbacks import ModelCheckpoint\n",
    "import time\n",
    "import matplotlib.pyplot as plt\n",
    "\n",
    "\n",
    "# Assuming you have already defined X_train, y_train, X_test, y_test, max_words, and max_sequence_length\n",
    "\n",
    "embedding_dim = 100\n",
    "hidden_units = 128\n",
    "\n",
    "model = Sequential()\n",
    "model.add(Embedding(input_dim=max_words, output_dim=embedding_dim, input_length=max_sequence_length))\n",
    "model.add(LSTM(units=hidden_units))\n",
    "model.add(Dense(1, activation='sigmoid'))\n",
    "\n",
    "# Compile the model\n",
    "model.compile(optimizer='adam', loss='binary_crossentropy', metrics=['accuracy'])\n",
    "\n",
    "\n",
    "# Record the start time\n",
    "start_time = time.time()\n",
    "\n",
    "# Train the model and store the history\n",
    "history = model.fit(X_train, y_train, epochs=3, batch_size=32, validation_split=0.2)\n",
    "\n",
    "# Record the end time\n",
    "end_time = time.time()\n",
    "\n",
    "# Evaluate the model\n",
    "loss, accuracy = model.evaluate(X_test, y_test)\n",
    "print(f'Test Accuracy: {accuracy * 100:.2f}%')\n",
    "\n",
    "# Calculate and print the training time\n",
    "training_time = end_time - start_time\n",
    "print(f'Training Time: {training_time:.2f} seconds')\n",
    "\n",
    "# Plot training and validation loss\n",
    "plt.figure(figsize=(12, 6))\n",
    "\n",
    "# Plot training & validation accuracy values\n",
    "plt.subplot(1, 2, 1)\n",
    "plt.plot(history.history['accuracy'])\n",
    "plt.plot(history.history['val_accuracy'])\n",
    "plt.title('Model Accuracy')\n",
    "plt.xlabel('Epoch')\n",
    "plt.ylabel('Accuracy')\n",
    "plt.legend(['Train', 'Validation'], loc='upper left')\n",
    "\n",
    "# Plot training & validation loss values\n",
    "plt.subplot(1, 2, 2)\n",
    "plt.plot(history.history['loss'])\n",
    "plt.plot(history.history['val_loss'])\n",
    "plt.title('Model Loss')\n",
    "plt.xlabel('Epoch')\n",
    "plt.ylabel('Loss')\n",
    "plt.legend(['Train', 'Validation'], loc='upper left')\n",
    "\n",
    "plt.tight_layout()\n",
    "plt.show()\n"
   ],
   "metadata": {
    "collapsed": false,
    "ExecuteTime": {
     "end_time": "2023-12-15T01:57:25.969063100Z",
     "start_time": "2023-12-15T01:14:23.921346700Z"
    }
   }
  },
  {
   "cell_type": "code",
   "execution_count": 19,
   "outputs": [
    {
     "name": "stdout",
     "output_type": "stream",
     "text": [
      "1250/1250 [==============================] - 88s 70ms/step - loss: 0.1184 - accuracy: 0.9622\n"
     ]
    }
   ],
   "source": [
    "from keras.models import save_model, load_model\n",
    "\n",
    "# 保存模型\n",
    "model.save('lstm_model.h5')\n",
    "\n",
    "# 加载模型\n",
    "loaded_model = load_model('lstm_model.h5')\n",
    "\n",
    "# 使用加载的模型进行预测或其他操作\n",
    "loss, accuracy = loaded_model.evaluate(X_test, y_test)"
   ],
   "metadata": {
    "collapsed": false,
    "ExecuteTime": {
     "end_time": "2023-12-15T02:04:54.467533600Z",
     "start_time": "2023-12-15T02:03:26.240029400Z"
    }
   }
  },
  {
   "cell_type": "code",
   "execution_count": 21,
   "outputs": [
    {
     "name": "stdout",
     "output_type": "stream",
     "text": [
      "(100000, 3)\n"
     ]
    },
    {
     "name": "stderr",
     "output_type": "stream",
     "text": [
      "C:\\Users\\17569\\AppData\\Local\\Temp\\ipykernel_12652\\1910811553.py:1: DtypeWarning: Columns (0,2) have mixed types. Specify dtype option on import or set low_memory=False.\n",
      "  test_df = pd.read_csv('../dataset/llm-detect-ai-generated-text/shuffled_GPT_wiki_intro.csv', header=None)[200001:]\n"
     ]
    }
   ],
   "source": [
    "test_df = pd.read_csv('../dataset/llm-detect-ai-generated-text/shuffled_GPT_wiki_intro.csv', header=None)[200001:]\n",
    "print(test_df.shape)"
   ],
   "metadata": {
    "collapsed": false,
    "ExecuteTime": {
     "end_time": "2023-12-15T02:06:08.096273200Z",
     "start_time": "2023-12-15T02:06:04.630981100Z"
    }
   }
  },
  {
   "cell_type": "code",
   "execution_count": 26,
   "outputs": [
    {
     "name": "stdout",
     "output_type": "stream",
     "text": [
      "1    Arcturus is a village in the province of Masho...\n",
      "2                                                    0\n",
      "Name: 200002, dtype: object\n"
     ]
    }
   ],
   "source": [
    "print(test_df.iloc[1,1:])"
   ],
   "metadata": {
    "collapsed": false,
    "ExecuteTime": {
     "end_time": "2023-12-15T02:08:36.738404Z",
     "start_time": "2023-12-15T02:08:36.707035300Z"
    }
   }
  },
  {
   "cell_type": "code",
   "execution_count": 28,
   "outputs": [
    {
     "name": "stdout",
     "output_type": "stream",
     "text": [
      "Sampled DataFrame Shape: (400, 2)\n"
     ]
    }
   ],
   "source": [
    "sampled_df = test_df.sample(n=400).iloc[:,1:] # You can set a different random_state for reproducibility\n",
    "\n",
    "# Save the sampled data to a new CSV file\n",
    "sampled_df.to_csv('final_test_set.csv', index=False)\n",
    "\n",
    "# Print the shape of the sampled dataframe\n",
    "print(\"Sampled DataFrame Shape:\", sampled_df.shape)"
   ],
   "metadata": {
    "collapsed": false,
    "ExecuteTime": {
     "end_time": "2023-12-15T02:09:13.432244200Z",
     "start_time": "2023-12-15T02:09:13.369724400Z"
    }
   }
  },
  {
   "cell_type": "code",
   "execution_count": 48,
   "outputs": [
    {
     "name": "stdout",
     "output_type": "stream",
     "text": [
      "13/13 [==============================] - 1s 65ms/step - loss: 0.1197 - accuracy: 0.9550\n"
     ]
    }
   ],
   "source": [
    "loaded_model = load_model('lstm_model.h5')\n",
    "\n",
    "final_test_data = pd.read_csv('../dataset/testing_set/final_test_set.csv')\n",
    "\n",
    "X_test  = pad_sequences(tokenizer.texts_to_sequences(final_test_data.iloc[:,0])  , maxlen=max_sequence_length)\n",
    "\n",
    "\n",
    "y_test = label_encoder.transform(final_test_data.iloc[:,1].astype(str))\n",
    "\n",
    "\n",
    "# 使用加载的模型进行预测或其他操作\n",
    "loss, accuracy = loaded_model.evaluate(X_test, y_test)"
   ],
   "metadata": {
    "collapsed": false,
    "ExecuteTime": {
     "end_time": "2023-12-15T02:27:32.045604800Z",
     "start_time": "2023-12-15T02:27:30.068814700Z"
    }
   }
  },
  {
   "cell_type": "code",
   "execution_count": null,
   "outputs": [],
   "source": [],
   "metadata": {
    "collapsed": false
   }
  }
 ]
}
