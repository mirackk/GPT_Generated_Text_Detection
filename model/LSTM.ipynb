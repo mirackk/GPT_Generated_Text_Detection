{
 "nbformat": 4,
 "nbformat_minor": 0,
 "metadata": {
  "colab": {
   "private_outputs": true,
   "provenance": []
  },
  "kernelspec": {
   "name": "pytorch_jupiter",
   "language": "python",
   "display_name": "pytorch_jupiter"
  },
  "language_info": {
   "name": "python"
  }
 },
 "cells": [
  {
   "cell_type": "code",
   "execution_count": null,
   "metadata": {
    "id": "mI21FLyly5VE",
    "is_executing": true
   },
   "outputs": [],
   "source": [
    "from google.colab import drive\n",
    "drive.mount('/content/drive')\n",
    "\n",
    "data_dir = 'drive/MyDrive/505/final/'"
   ]
  },
  {
   "cell_type": "code",
   "execution_count": null,
   "outputs": [],
   "source": [
    "data_dir = 'drive/MyDrive/505/final/'"
   ],
   "metadata": {
    "collapsed": false
   }
  },
  {
   "cell_type": "code",
   "source": [
    "df = pd.read_csv(data_dir + 'sample.csv', header=None)"
   ],
   "metadata": {
    "id": "F1Sd7tFhzLMq",
    "is_executing": true
   },
   "execution_count": null,
   "outputs": []
  },
  {
   "cell_type": "code",
   "source": [
    "import pandas as pd\n",
    "from sklearn.model_selection import train_test_split\n",
    "from tensorflow.keras.preprocessing.text import Tokenizer\n",
    "from tensorflow.keras.preprocessing.sequence import pad_sequences\n",
    "from sklearn.preprocessing import LabelEncoder\n",
    "from tensorflow.keras.models import Sequential\n",
    "from tensorflow.keras.layers import Embedding, LSTM, Dense"
   ],
   "metadata": {
    "id": "4WLKcvcLzN-A",
    "ExecuteTime": {
     "end_time": "2023-12-13T22:54:12.689212900Z",
     "start_time": "2023-12-13T22:54:07.218620500Z"
    }
   },
   "execution_count": 1,
   "outputs": []
  },
  {
   "cell_type": "code",
   "execution_count": 25,
   "outputs": [
    {
     "name": "stdout",
     "output_type": "stream",
     "text": [
      "Num GPUs Available:  0\n"
     ]
    }
   ],
   "source": [],
   "metadata": {
    "collapsed": false,
    "ExecuteTime": {
     "end_time": "2023-12-13T22:42:07.692468700Z",
     "start_time": "2023-12-13T22:42:07.639518500Z"
    }
   }
  },
  {
   "cell_type": "code",
   "execution_count": 2,
   "outputs": [
    {
     "name": "stderr",
     "output_type": "stream",
     "text": [
      "C:\\Users\\17569\\AppData\\Local\\Temp\\ipykernel_11952\\185645508.py:1: DtypeWarning: Columns (0,2) have mixed types. Specify dtype option on import or set low_memory=False.\n",
      "  df = pd.read_csv('../dataset/llm-detect-ai-generated-text/shuffled_GPT_wiki_intro.csv', header=None)\n"
     ]
    }
   ],
   "source": [
    "df = pd.read_csv('../dataset/llm-detect-ai-generated-text/shuffled_GPT_wiki_intro.csv', header=None)"
   ],
   "metadata": {
    "collapsed": false,
    "ExecuteTime": {
     "end_time": "2023-12-13T22:54:22.326002500Z",
     "start_time": "2023-12-13T22:54:18.499449300Z"
    }
   }
  },
  {
   "cell_type": "code",
   "execution_count": 3,
   "outputs": [
    {
     "name": "stdout",
     "output_type": "stream",
     "text": [
      "   0                                                  1  2\n",
      "1  0  Hope (born 2010) is a bottlenose dolphin who i...  1\n",
      "2  1  The Invasion of Umuahia (December 20-December ...  0\n",
      "3  2  Morgan Adokwei Brown is a lawyer and human rig...  1\n",
      "4  3  Martine Warmann (formerly Martine George; born...  1\n",
      "5  4  The Last Face is a 2016 American drama film wr...  1\n",
      "6  5  Placental mammals (infraclass Placentalia ) ar...  0\n",
      "7  6  The People's Secretariat of Ukraine was the hi...  1\n",
      "8  7  Slavic paganism or Slavic religion describes t...  1\n",
      "9  8  Lieutenant Colonel John Thomas Eustace (March ...  1\n"
     ]
    }
   ],
   "source": [
    "print(df.iloc[1:10,:])\n"
   ],
   "metadata": {
    "collapsed": false,
    "ExecuteTime": {
     "end_time": "2023-12-13T22:54:23.464736Z",
     "start_time": "2023-12-13T22:54:23.424842500Z"
    }
   }
  },
  {
   "cell_type": "code",
   "execution_count": 4,
   "outputs": [],
   "source": [
    "df= df[1:50000]"
   ],
   "metadata": {
    "collapsed": false,
    "ExecuteTime": {
     "end_time": "2023-12-13T22:54:28.517572600Z",
     "start_time": "2023-12-13T22:54:28.492770400Z"
    }
   }
  },
  {
   "cell_type": "code",
   "source": [
    "train_data, test_data = train_test_split(df, test_size=0.2, random_state=42)\n",
    "\n",
    "# 文本预处理\n",
    "max_words = 10000  # 仅使用最常见的10000个词\n",
    "tokenizer = Tokenizer(num_words=max_words)\n",
    "tokenizer.fit_on_texts(train_data.iloc[:, 1])  # 第三列是文本\n",
    "\n",
    "X_train = tokenizer.texts_to_sequences(train_data.iloc[:, 1])\n",
    "X_test = tokenizer.texts_to_sequences(test_data.iloc[:, 1])"
   ],
   "metadata": {
    "id": "rRglBTpCzSzu",
    "ExecuteTime": {
     "end_time": "2023-12-13T23:00:01.547693500Z",
     "start_time": "2023-12-13T22:59:50.776731700Z"
    }
   },
   "execution_count": 6,
   "outputs": []
  },
  {
   "cell_type": "code",
   "source": [
    "max_sequence_length = max(len(seq) for seq in X_train)\n",
    "X_train = pad_sequences(X_train, maxlen=max_sequence_length)\n",
    "X_test = pad_sequences(X_test, maxlen=max_sequence_length)\n",
    "\n",
    "# 标签预处理\n",
    "label_encoder = LabelEncoder()\n",
    "y_train = label_encoder.fit_transform(train_data.iloc[:, 2])  # 第二列是标签\n",
    "y_test = label_encoder.transform(test_data.iloc[:, 2])"
   ],
   "metadata": {
    "id": "lwo7d0NmzZqW",
    "ExecuteTime": {
     "end_time": "2023-12-13T23:00:01.956061200Z",
     "start_time": "2023-12-13T23:00:01.558079600Z"
    }
   },
   "execution_count": 7,
   "outputs": []
  },
  {
   "cell_type": "code",
   "source": [
    "embedding_dim = 100\n",
    "hidden_units = 128\n",
    "\n",
    "model = Sequential()\n",
    "model.add(Embedding(input_dim=max_words, output_dim=embedding_dim, input_length=max_sequence_length))\n",
    "model.add(LSTM(units=hidden_units))\n",
    "model.add(Dense(1, activation='sigmoid'))\n",
    "\n",
    "# 编译模型\n",
    "model.compile(optimizer='adam', loss='binary_crossentropy', metrics=['accuracy'])\n",
    "\n",
    "# 训练模型\n",
    "model.fit(X_train, y_train, epochs=3, batch_size=32, validation_split=0.2)\n",
    "\n",
    "# 评估模型\n",
    "loss, accuracy = model.evaluate(X_test, y_test)\n",
    "print(f'Test Accuracy: {accuracy * 100:.2f}%')"
   ],
   "metadata": {
    "id": "bzn49JLczeEH",
    "ExecuteTime": {
     "end_time": "2023-12-13T23:11:55.667437200Z",
     "start_time": "2023-12-13T23:00:01.956061200Z"
    }
   },
   "execution_count": 8,
   "outputs": [
    {
     "name": "stdout",
     "output_type": "stream",
     "text": [
      "Epoch 1/3\n",
      "1000/1000 [==============================] - 238s 236ms/step - loss: 0.2860 - accuracy: 0.8798 - val_loss: 0.2037 - val_accuracy: 0.9239\n",
      "Epoch 2/3\n",
      "1000/1000 [==============================] - 228s 228ms/step - loss: 0.1301 - accuracy: 0.9535 - val_loss: 0.2174 - val_accuracy: 0.9273\n",
      "Epoch 3/3\n",
      "1000/1000 [==============================] - 225s 225ms/step - loss: 0.0756 - accuracy: 0.9740 - val_loss: 0.2007 - val_accuracy: 0.9335\n",
      "313/313 [==============================] - 21s 65ms/step - loss: 0.2044 - accuracy: 0.9312\n",
      "Test Accuracy: 93.12%\n"
     ]
    }
   ]
  },
  {
   "cell_type": "code",
   "execution_count": 9,
   "outputs": [
    {
     "name": "stdout",
     "output_type": "stream",
     "text": [
      "313/313 [==============================] - 20s 61ms/step - loss: 0.2044 - accuracy: 0.9312\n"
     ]
    }
   ],
   "source": [
    "from keras.models import save_model, load_model\n",
    "\n",
    "# 保存模型\n",
    "model.save('my_model.h5')\n",
    "\n",
    "# 加载模型\n",
    "loaded_model = load_model('my_model.h5')\n",
    "\n",
    "# 使用加载的模型进行预测或其他操作\n",
    "loss, accuracy = loaded_model.evaluate(X_test, y_test)"
   ],
   "metadata": {
    "collapsed": false,
    "ExecuteTime": {
     "end_time": "2023-12-14T01:19:15.996659500Z",
     "start_time": "2023-12-14T01:18:55.712449400Z"
    }
   }
  },
  {
   "cell_type": "code",
   "execution_count": null,
   "outputs": [],
   "source": [],
   "metadata": {
    "collapsed": false
   }
  }
 ]
}
