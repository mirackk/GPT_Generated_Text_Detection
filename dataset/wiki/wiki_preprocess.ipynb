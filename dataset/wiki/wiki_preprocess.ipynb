{
 "cells": [
  {
   "cell_type": "code",
   "execution_count": null,
   "id": "initial_id",
   "metadata": {
    "collapsed": true
   },
   "outputs": [],
   "source": []
  }
 ],
 "metadata": {
  "kernelspec": {
   "display_name": "Python 3",
   "language": "python",
   "name": "python3"
  },
  "language_info": {
   "codemirror_mode": {
    "name": "ipython",
    "version": 2
   },
   "file_extension": ".py",
   "mimetype": "text/x-python",
   "name": "python",
   "nbconvert_exporter": "python",
   "pygments_lexer": "ipython2",
   "version": "2.7.6"
  }
 },
 "nbformat": 4,
 "nbformat_minor": 5
}
{
 "cells": [
  {
   "cell_type": "code",
   "execution_count": 2,
   "metadata": {},
   "outputs": [
    {
     "data": {
      "text/plain": [
       "'shuffled_GPT_wiki_intro.csv'"
      ]
     },
     "execution_count": 2,
     "metadata": {},
     "output_type": "execute_result"
    }
   ],
   "source": [
    "import pandas as pd\n",
    "from sklearn.utils import shuffle\n",
    "\n",
    "# Assuming the file 'GPT-wiki-intro.csv' is uploaded to the environment\n",
    "file_path = 'GPT-wiki-intro.csv'\n",
    "\n",
    "# Read the CSV file\n",
    "df = pd.read_csv(file_path)\n",
    "\n",
    "# Selecting the 'wiki_intro' and 'generated_intro' columns and assigning labels\n",
    "wiki_df = pd.DataFrame({'text': df['wiki_intro'], 'labels': 0})\n",
    "generated_df = pd.DataFrame({'text': df['generated_intro'], 'labels': 1})\n",
    "\n",
    "# Concatenating the dataframes and shuffling\n",
    "combined_df = pd.concat([wiki_df, generated_df], ignore_index=True)\n",
    "shuffled_df = shuffle(combined_df).reset_index(drop=True)\n",
    "\n",
    "# Adding an 'id' column\n",
    "shuffled_df['id'] = shuffled_df.index\n",
    "\n",
    "# Reordering columns to have 'id' first\n",
    "shuffled_df = shuffled_df[['id', 'text', 'labels']]\n",
    "\n",
    "# Saving the new dataframe to a CSV file\n",
    "output_file_path = 'shuffled_GPT_wiki_intro.csv'\n",
    "shuffled_df.to_csv(output_file_path, index=False)\n",
    "\n",
    "output_file_path\n"
   ]
  }
 ],
 "metadata": {
  "kernelspec": {
   "display_name": "base",
   "language": "python",
   "name": "python3"
  },
  "language_info": {
   "codemirror_mode": {
    "name": "ipython",
    "version": 3
   },
   "file_extension": ".py",
   "mimetype": "text/x-python",
   "name": "python",
   "nbconvert_exporter": "python",
   "pygments_lexer": "ipython3",
   "version": "3.10.11"
  },
  "orig_nbformat": 4
 },
 "nbformat": 4,
 "nbformat_minor": 2
}
